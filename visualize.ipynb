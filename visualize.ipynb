{
 "cells": [
  {
   "cell_type": "code",
   "execution_count": 1,
   "metadata": {},
   "outputs": [],
   "source": [
    "from diffusion_policy.world_model.diffusion_world_model_unet_image import DiffusionWorldModelImageUnet\n",
    "from diffusion_policy.dataset.base_dataset import BaseImageDataset\n",
    "from diffusion_policy.dataset.pusht_image_dataset import PushTImageDataset\n",
    "from diffusion_policy.dataset.pusht_dataset import PushTLowdimDataset\n",
    "from diffusion_policy.env_runner.base_image_runner import BaseImageRunner\n",
    "from diffusion_policy.common.checkpoint_util import TopKCheckpointManager\n",
    "from diffusion_policy.common.json_logger import JsonLogger\n",
    "from diffusion_policy.common.pytorch_util import dict_apply, optimizer_to\n",
    "from diffusion_policy.model.diffusion.ema_model import EMAModel\n",
    "from diffusion_policy.model.common.lr_scheduler import get_scheduler\n",
    "from diffusion_policy.gym_util.video_recording_wrapper import VideoRecordingWrapper, VideoRecorder"
   ]
  },
  {
   "cell_type": "code",
   "execution_count": 2,
   "metadata": {},
   "outputs": [],
   "source": [
    "dataset = PushTLowdimDataset('data/pusht/pusht_cchi_v7_replay.zarr')"
   ]
  },
  {
   "cell_type": "code",
   "execution_count": 3,
   "metadata": {},
   "outputs": [
    {
     "name": "stdout",
     "output_type": "stream",
     "text": [
      "SAMPLE [[[191.2422  317.38004]\n",
      "  [217.56601 205.28601]\n",
      "  [294.7433  299.63855]\n",
      "  [235.207   269.2342 ]\n",
      "  [151.09457 320.00104]\n",
      "  [254.35184 304.29636]\n",
      "  [204.55615 243.00578]\n",
      "  [195.82108 279.98257]\n",
      "  [271.36905 270.47772]]]\n",
      "OBS [[191.2422  317.38004 217.56601 205.28601 294.7433  299.63855 235.207\n",
      "  269.2342  151.09457 320.00104 254.35184 304.29636 204.55615 243.00578\n",
      "  195.82108 279.98257 271.36905 270.47772]]\n"
     ]
    },
    {
     "ename": "KeyError",
     "evalue": "'image'",
     "output_type": "error",
     "traceback": [
      "\u001b[0;31m---------------------------------------------------------------------------\u001b[0m",
      "\u001b[0;31mKeyError\u001b[0m                                  Traceback (most recent call last)",
      "Cell \u001b[0;32mIn[3], line 3\u001b[0m\n\u001b[1;32m      1\u001b[0m \u001b[38;5;28;01mimport\u001b[39;00m \u001b[38;5;21;01mmatplotlib\u001b[39;00m\u001b[38;5;21;01m.\u001b[39;00m\u001b[38;5;21;01mpyplot\u001b[39;00m \u001b[38;5;28;01mas\u001b[39;00m \u001b[38;5;21;01mplt\u001b[39;00m\n\u001b[0;32m----> 3\u001b[0m keypoints \u001b[38;5;241m=\u001b[39m \u001b[43mdataset\u001b[49m\u001b[43m[\u001b[49m\u001b[38;5;241;43m-\u001b[39;49m\u001b[38;5;241;43m1\u001b[39;49m\u001b[43m]\u001b[49m[\u001b[38;5;124m'\u001b[39m\u001b[38;5;124mobs\u001b[39m\u001b[38;5;124m'\u001b[39m]\n\u001b[1;32m      4\u001b[0m tst_x \u001b[38;5;241m=\u001b[39m []\n\u001b[1;32m      5\u001b[0m tst_y \u001b[38;5;241m=\u001b[39m []\n",
      "File \u001b[0;32m/ssdscratch/pmolodyk3/diffusion_world_model/diffusion_policy/dataset/pusht_dataset.py:97\u001b[0m, in \u001b[0;36mPushTLowdimDataset.__getitem__\u001b[0;34m(self, idx)\u001b[0m\n\u001b[1;32m     95\u001b[0m sample \u001b[38;5;241m=\u001b[39m \u001b[38;5;28mself\u001b[39m\u001b[38;5;241m.\u001b[39msampler\u001b[38;5;241m.\u001b[39msample_sequence(idx)\n\u001b[1;32m     96\u001b[0m \u001b[38;5;28mprint\u001b[39m(\u001b[38;5;124m'\u001b[39m\u001b[38;5;124mSAMPLE\u001b[39m\u001b[38;5;124m'\u001b[39m, sample[\u001b[38;5;124m'\u001b[39m\u001b[38;5;124mkeypoint\u001b[39m\u001b[38;5;124m'\u001b[39m])\n\u001b[0;32m---> 97\u001b[0m data \u001b[38;5;241m=\u001b[39m \u001b[38;5;28;43mself\u001b[39;49m\u001b[38;5;241;43m.\u001b[39;49m\u001b[43m_sample_to_data\u001b[49m\u001b[43m(\u001b[49m\u001b[43msample\u001b[49m\u001b[43m)\u001b[49m\n\u001b[1;32m     99\u001b[0m torch_data \u001b[38;5;241m=\u001b[39m dict_apply(data, torch\u001b[38;5;241m.\u001b[39mfrom_numpy)\n\u001b[1;32m    100\u001b[0m \u001b[38;5;28;01mreturn\u001b[39;00m torch_data\n",
      "File \u001b[0;32m/ssdscratch/pmolodyk3/diffusion_world_model/diffusion_policy/dataset/pusht_dataset.py:90\u001b[0m, in \u001b[0;36mPushTLowdimDataset._sample_to_data\u001b[0;34m(self, sample)\u001b[0m\n\u001b[1;32m     82\u001b[0m \u001b[38;5;28mprint\u001b[39m(\u001b[38;5;124m'\u001b[39m\u001b[38;5;124mOBS\u001b[39m\u001b[38;5;124m'\u001b[39m, keypoint\u001b[38;5;241m.\u001b[39mreshape(keypoint\u001b[38;5;241m.\u001b[39mshape[\u001b[38;5;241m0\u001b[39m], \u001b[38;5;241m-\u001b[39m\u001b[38;5;241m1\u001b[39m))\n\u001b[1;32m     83\u001b[0m obs \u001b[38;5;241m=\u001b[39m np\u001b[38;5;241m.\u001b[39mconcatenate([\n\u001b[1;32m     84\u001b[0m     keypoint\u001b[38;5;241m.\u001b[39mreshape(keypoint\u001b[38;5;241m.\u001b[39mshape[\u001b[38;5;241m0\u001b[39m], \u001b[38;5;241m-\u001b[39m\u001b[38;5;241m1\u001b[39m), \n\u001b[1;32m     85\u001b[0m     agent_pos], axis\u001b[38;5;241m=\u001b[39m\u001b[38;5;241m-\u001b[39m\u001b[38;5;241m1\u001b[39m)\n\u001b[1;32m     87\u001b[0m data \u001b[38;5;241m=\u001b[39m {\n\u001b[1;32m     88\u001b[0m     \u001b[38;5;124m'\u001b[39m\u001b[38;5;124mobs\u001b[39m\u001b[38;5;124m'\u001b[39m: obs, \u001b[38;5;66;03m# T, D_o\u001b[39;00m\n\u001b[1;32m     89\u001b[0m     \u001b[38;5;124m'\u001b[39m\u001b[38;5;124maction\u001b[39m\u001b[38;5;124m'\u001b[39m: sample[\u001b[38;5;28mself\u001b[39m\u001b[38;5;241m.\u001b[39maction_key], \u001b[38;5;66;03m# T, D_a\u001b[39;00m\n\u001b[0;32m---> 90\u001b[0m     \u001b[38;5;124m'\u001b[39m\u001b[38;5;124mimage\u001b[39m\u001b[38;5;124m'\u001b[39m: \u001b[43msample\u001b[49m\u001b[43m[\u001b[49m\u001b[38;5;124;43m'\u001b[39;49m\u001b[38;5;124;43mimage\u001b[39;49m\u001b[38;5;124;43m'\u001b[39;49m\u001b[43m]\u001b[49m\n\u001b[1;32m     91\u001b[0m }\n\u001b[1;32m     92\u001b[0m \u001b[38;5;28;01mreturn\u001b[39;00m data\n",
      "\u001b[0;31mKeyError\u001b[0m: 'image'"
     ]
    }
   ],
   "source": [
    "import matplotlib.pyplot as plt\n",
    "\n",
    "keypoints = dataset[-1]['obs']\n",
    "tst_x = []\n",
    "tst_y = []\n",
    "for i in range(keypoints.shape[1] // 2):\n",
    "    tst_x.append(keypoints[0][2 * i])\n",
    "    tst_y.append(keypoints[0][2 * i + 1])\n",
    "\n",
    "plt.scatter(tst_x[:-1], tst_y[:-1])"
   ]
  },
  {
   "cell_type": "code",
   "execution_count": 8,
   "metadata": {},
   "outputs": [
    {
     "data": {
      "text/plain": [
       "[tensor(191.2422),\n",
       " tensor(217.5660),\n",
       " tensor(294.7433),\n",
       " tensor(235.2070),\n",
       " tensor(151.0946),\n",
       " tensor(254.3518),\n",
       " tensor(204.5562),\n",
       " tensor(195.8211),\n",
       " tensor(271.3690),\n",
       " tensor(144.5512)]"
      ]
     },
     "execution_count": 8,
     "metadata": {},
     "output_type": "execute_result"
    }
   ],
   "source": [
    "tst_x"
   ]
  },
  {
   "cell_type": "code",
   "execution_count": 9,
   "metadata": {},
   "outputs": [
    {
     "data": {
      "text/plain": [
       "[tensor(317.3800),\n",
       " tensor(205.2860),\n",
       " tensor(299.6385),\n",
       " tensor(269.2342),\n",
       " tensor(320.0010),\n",
       " tensor(304.2964),\n",
       " tensor(243.0058),\n",
       " tensor(279.9826),\n",
       " tensor(270.4777),\n",
       " tensor(305.2631)]"
      ]
     },
     "execution_count": 9,
     "metadata": {},
     "output_type": "execute_result"
    }
   ],
   "source": [
    "tst_y"
   ]
  },
  {
   "cell_type": "code",
   "execution_count": null,
   "metadata": {},
   "outputs": [],
   "source": []
  }
 ],
 "metadata": {
  "kernelspec": {
   "display_name": "Python 3",
   "language": "python",
   "name": "python3"
  },
  "language_info": {
   "codemirror_mode": {
    "name": "ipython",
    "version": 3
   },
   "file_extension": ".py",
   "mimetype": "text/x-python",
   "name": "python",
   "nbconvert_exporter": "python",
   "pygments_lexer": "ipython3",
   "version": "3.9.18"
  }
 },
 "nbformat": 4,
 "nbformat_minor": 2
}
